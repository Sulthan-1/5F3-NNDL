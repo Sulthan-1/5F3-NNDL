{
 "cells": [
  {
   "cell_type": "code",
   "execution_count": 1,
   "metadata": {},
   "outputs": [],
   "source": [
    "import math\n",
    "import matplotlib.pyplot as plt\n",
    "import pandas as pd\n",
    "import numpy as np\n",
    "import seaborn as sns\n",
    "from scipy import stats\n",
    "from sklearn.preprocessing import minmax_scale\n",
    "from sklearn.model_selection import train_test_split"
   ]
  },
  {
   "cell_type": "code",
   "execution_count": 6,
   "metadata": {},
   "outputs": [],
   "source": [
    "data = pd.read_csv(\"water1.csv\")"
   ]
  },
  {
   "cell_type": "code",
   "execution_count": 7,
   "metadata": {},
   "outputs": [
    {
     "data": {
      "text/html": [
       "<div>\n",
       "<style scoped>\n",
       "    .dataframe tbody tr th:only-of-type {\n",
       "        vertical-align: middle;\n",
       "    }\n",
       "\n",
       "    .dataframe tbody tr th {\n",
       "        vertical-align: top;\n",
       "    }\n",
       "\n",
       "    .dataframe thead th {\n",
       "        text-align: right;\n",
       "    }\n",
       "</style>\n",
       "<table border=\"1\" class=\"dataframe\">\n",
       "  <thead>\n",
       "    <tr style=\"text-align: right;\">\n",
       "      <th></th>\n",
       "      <th>X</th>\n",
       "      <th>Y</th>\n",
       "    </tr>\n",
       "  </thead>\n",
       "  <tbody>\n",
       "    <tr>\n",
       "      <th>0</th>\n",
       "      <td>75.1</td>\n",
       "      <td>577.8</td>\n",
       "    </tr>\n",
       "    <tr>\n",
       "      <th>1</th>\n",
       "      <td>74.3</td>\n",
       "      <td>577.0</td>\n",
       "    </tr>\n",
       "    <tr>\n",
       "      <th>2</th>\n",
       "      <td>88.7</td>\n",
       "      <td>570.9</td>\n",
       "    </tr>\n",
       "    <tr>\n",
       "      <th>3</th>\n",
       "      <td>114.6</td>\n",
       "      <td>578.6</td>\n",
       "    </tr>\n",
       "    <tr>\n",
       "      <th>4</th>\n",
       "      <td>98.5</td>\n",
       "      <td>572.4</td>\n",
       "    </tr>\n",
       "    <tr>\n",
       "      <th>5</th>\n",
       "      <td>112.0</td>\n",
       "      <td>411.2</td>\n",
       "    </tr>\n",
       "    <tr>\n",
       "      <th>6</th>\n",
       "      <td>114.8</td>\n",
       "      <td>531.7</td>\n",
       "    </tr>\n",
       "    <tr>\n",
       "      <th>7</th>\n",
       "      <td>62.2</td>\n",
       "      <td>563.9</td>\n",
       "    </tr>\n",
       "    <tr>\n",
       "      <th>8</th>\n",
       "      <td>107.0</td>\n",
       "      <td>406.7</td>\n",
       "    </tr>\n",
       "    <tr>\n",
       "      <th>9</th>\n",
       "      <td>90.5</td>\n",
       "      <td>507.1</td>\n",
       "    </tr>\n",
       "    <tr>\n",
       "      <th>10</th>\n",
       "      <td>73.8</td>\n",
       "      <td>496.4</td>\n",
       "    </tr>\n",
       "    <tr>\n",
       "      <th>11</th>\n",
       "      <td>115.8</td>\n",
       "      <td>505.2</td>\n",
       "    </tr>\n",
       "    <tr>\n",
       "      <th>12</th>\n",
       "      <td>99.4</td>\n",
       "      <td>506.4</td>\n",
       "    </tr>\n",
       "    <tr>\n",
       "      <th>13</th>\n",
       "      <td>93.0</td>\n",
       "      <td>510.2</td>\n",
       "    </tr>\n",
       "    <tr>\n",
       "      <th>14</th>\n",
       "      <td>73.9</td>\n",
       "      <td>503.9</td>\n",
       "    </tr>\n",
       "    <tr>\n",
       "      <th>15</th>\n",
       "      <td>65.7</td>\n",
       "      <td>506.2</td>\n",
       "    </tr>\n",
       "    <tr>\n",
       "      <th>16</th>\n",
       "      <td>66.2</td>\n",
       "      <td>506.3</td>\n",
       "    </tr>\n",
       "    <tr>\n",
       "      <th>17</th>\n",
       "      <td>77.9</td>\n",
       "      <td>510.2</td>\n",
       "    </tr>\n",
       "    <tr>\n",
       "      <th>18</th>\n",
       "      <td>109.8</td>\n",
       "      <td>508.6</td>\n",
       "    </tr>\n",
       "    <tr>\n",
       "      <th>19</th>\n",
       "      <td>105.4</td>\n",
       "      <td>510.9</td>\n",
       "    </tr>\n",
       "    <tr>\n",
       "      <th>20</th>\n",
       "      <td>88.6</td>\n",
       "      <td>505.4</td>\n",
       "    </tr>\n",
       "    <tr>\n",
       "      <th>21</th>\n",
       "      <td>89.6</td>\n",
       "      <td>512.8</td>\n",
       "    </tr>\n",
       "    <tr>\n",
       "      <th>22</th>\n",
       "      <td>73.8</td>\n",
       "      <td>502.8</td>\n",
       "    </tr>\n",
       "    <tr>\n",
       "      <th>23</th>\n",
       "      <td>101.3</td>\n",
       "      <td>493.0</td>\n",
       "    </tr>\n",
       "    <tr>\n",
       "      <th>24</th>\n",
       "      <td>120.0</td>\n",
       "      <td>510.8</td>\n",
       "    </tr>\n",
       "    <tr>\n",
       "      <th>25</th>\n",
       "      <td>75.9</td>\n",
       "      <td>512.8</td>\n",
       "    </tr>\n",
       "    <tr>\n",
       "      <th>26</th>\n",
       "      <td>76.2</td>\n",
       "      <td>513.4</td>\n",
       "    </tr>\n",
       "    <tr>\n",
       "      <th>27</th>\n",
       "      <td>81.9</td>\n",
       "      <td>510.0</td>\n",
       "    </tr>\n",
       "    <tr>\n",
       "      <th>28</th>\n",
       "      <td>84.3</td>\n",
       "      <td>504.3</td>\n",
       "    </tr>\n",
       "    <tr>\n",
       "      <th>29</th>\n",
       "      <td>98.0</td>\n",
       "      <td>522.0</td>\n",
       "    </tr>\n",
       "  </tbody>\n",
       "</table>\n",
       "</div>"
      ],
      "text/plain": [
       "        X      Y\n",
       "0    75.1  577.8\n",
       "1    74.3  577.0\n",
       "2    88.7  570.9\n",
       "3   114.6  578.6\n",
       "4    98.5  572.4\n",
       "5   112.0  411.2\n",
       "6   114.8  531.7\n",
       "7    62.2  563.9\n",
       "8   107.0  406.7\n",
       "9    90.5  507.1\n",
       "10   73.8  496.4\n",
       "11  115.8  505.2\n",
       "12   99.4  506.4\n",
       "13   93.0  510.2\n",
       "14   73.9  503.9\n",
       "15   65.7  506.2\n",
       "16   66.2  506.3\n",
       "17   77.9  510.2\n",
       "18  109.8  508.6\n",
       "19  105.4  510.9\n",
       "20   88.6  505.4\n",
       "21   89.6  512.8\n",
       "22   73.8  502.8\n",
       "23  101.3  493.0\n",
       "24  120.0  510.8\n",
       "25   75.9  512.8\n",
       "26   76.2  513.4\n",
       "27   81.9  510.0\n",
       "28   84.3  504.3\n",
       "29   98.0  522.0"
      ]
     },
     "execution_count": 7,
     "metadata": {},
     "output_type": "execute_result"
    }
   ],
   "source": [
    "data"
   ]
  },
  {
   "cell_type": "code",
   "execution_count": 8,
   "metadata": {},
   "outputs": [
    {
     "data": {
      "text/plain": [
       "<matplotlib.collections.PathCollection at 0x24e1bafc4f0>"
      ]
     },
     "execution_count": 8,
     "metadata": {},
     "output_type": "execute_result"
    },
    {
     "data": {
      "image/png": "[encoded data removed]",
      "text/plain": [
       "<Figure size 432x288 with 1 Axes>"
      ]
     },
     "metadata": {
      "needs_background": "light"
     },
     "output_type": "display_data"
    }
   ],
   "source": [
    "y = data.iloc[:,1]\n",
    "x = data.iloc[:,0]\n",
    "\n",
    "plt.scatter(x,y)"
   ]
  },
  {
   "cell_type": "code",
   "execution_count": 10,
   "metadata": {},
   "outputs": [],
   "source": [
    "threshold = 3\n",
    "z = np.abs(stats.zscore(x))\n",
    "outliers = np.where(z > threshold)"
   ]
  },
  {
   "cell_type": "code",
   "execution_count": 11,
   "metadata": {},
   "outputs": [],
   "source": [
    "x = minmax_scale(x)\n",
    "y = minmax_scale(y)"
   ]
  },
  {
   "cell_type": "code",
   "execution_count": 12,
   "metadata": {},
   "outputs": [
    {
     "name": "stdout",
     "output_type": "stream",
     "text": [
      "21\n",
      "21\n",
      "9\n",
      "9\n"
     ]
    }
   ],
   "source": [
    "x_train,x_test,y_train,y_test = train_test_split(x,y,test_size=0.3)\n",
    "print(len(x_train))\n",
    "print(len(y_train))\n",
    "print(len(x_test))\n",
    "print(len(y_test))"
   ]
  },
  {
   "cell_type": "code",
   "execution_count": 13,
   "metadata": {},
   "outputs": [],
   "source": [
    "def gradientm(x,y,m,c):\n",
    "  sum = 0\n",
    "  number_of_samples = len(x)\n",
    "  for i in range(number_of_samples):\n",
    "    gradm_of_i = (y[i]- m*x[i] - c)*x[i]\n",
    "    sum = sum + gradm_of_i\n",
    "  gradm = -1*(1/number_of_samples)*sum\n",
    "  return gradm\n",
    "\n",
    "def gradientc(x,y,m,c):\n",
    "  sum = 0\n",
    "  number_of_samples = len(x)\n",
    "  for i in range(number_of_samples):\n",
    "    gradc_of_i = (y[i]- m*x[i] - c)\n",
    "    sum = sum + gradc_of_i\n",
    "  gradc = -1*(1/number_of_samples)*sum\n",
    "  return gradc\n",
    "\n",
    "def error(x,y,m,c):\n",
    "  number_of_samples = len(x)\n",
    "  for i in range(number_of_samples):\n",
    "    error_value = 1*0.5*(1/number_of_samples)*math.pow((y[i] - m*x[i] - c), 2)\n",
    "  return error_value"
   ]
  },
  {
   "cell_type": "code",
   "execution_count": 14,
   "metadata": {},
   "outputs": [],
   "source": [
    "m = 1\n",
    "c = -1\n",
    "\n",
    "learning_rate = 0.1\n",
    "epochs = 300\n",
    "error_list = []\n",
    "\n",
    "for i in range(epochs):\n",
    "  error_list.append(error(x,y,m,c))\n",
    "  deltam = -1*learning_rate*gradientm(x,y,m,c)\n",
    "  deltac = -1*learning_rate*gradientc(x,y,m,c)\n",
    "  m = m + deltam\n",
    "  c = c + deltac"
   ]
  },
  {
   "cell_type": "code",
   "execution_count": 15,
   "metadata": {},
   "outputs": [
    {
     "data": {
      "text/plain": [
       "Text(0.5, 1.0, 'error graph in case of Batch')"
      ]
     },
     "execution_count": 15,
     "metadata": {},
     "output_type": "execute_result"
    },
    {
     "data": {
      "image/png": "[encoded data removed]",
      "text/plain": [
       "<Figure size 432x288 with 1 Axes>"
      ]
     },
     "metadata": {
      "needs_background": "light"
     },
     "output_type": "display_data"
    }
   ],
   "source": [
    "x1 = range(epochs)\n",
    "y1 = error_list\n",
    "\n",
    "plt.plot(x1,y1)\n",
    "plt.xlabel(\"number of epochs\")\n",
    "plt.ylabel(\"error\")\n",
    "plt.title(\"error graph in case of Batch\")"
   ]
  },
  {
   "cell_type": "code",
   "execution_count": 17,
   "metadata": {},
   "outputs": [
    {
     "name": "stdout",
     "output_type": "stream",
     "text": [
      "training error :  0.0034933384488204104\n",
      "testing error :  0.006199387303697564\n"
     ]
    }
   ],
   "source": [
    "train_error = error(x_train,y_train,m,c)\n",
    "test_error = error(x_test,y_test,m,c)\n",
    "\n",
    "print(\"training error : \",train_error)\n",
    "print(\"testing error : \",test_error)"
   ]
  },
  {
   "cell_type": "code",
   "execution_count": 18,
   "metadata": {},
   "outputs": [
    {
     "data": {
      "text/plain": [
       "Text(0.5, 1.0, 'line which is generated after training')"
      ]
     },
     "execution_count": 18,
     "metadata": {},
     "output_type": "execute_result"
    },
    {
     "data": {
      "image/png": "[encoded data removed]",
      "text/plain": [
       "<Figure size 432x288 with 1 Axes>"
      ]
     },
     "metadata": {
      "needs_background": "light"
     },
     "output_type": "display_data"
    }
   ],
   "source": [
    "x2 = x_test\n",
    "y2 = [m*i+c for i in x2]\n",
    "\n",
    "x1 = x_test\n",
    "y1 = y_test\n",
    "\n",
    "plt.plot(x2,y2)\n",
    "\n",
    "plt.scatter(x1,y1)\n",
    "\n",
    "plt.title(\"line which is generated after training\")"
   ]
  },
  {
   "cell_type": "code",
   "execution_count": 19,
   "metadata": {},
   "outputs": [
    {
     "name": "stdout",
     "output_type": "stream",
     "text": [
      "enter the pressure value : 95\n",
      "the predicted weight :  514.1817842395491\n"
     ]
    }
   ],
   "source": [
    "pressure_max = 120.000000\n",
    "pressure_min = 62.200000\n",
    "\n",
    "weight_max = 578.600000\n",
    "weight_min = 406.700000\n",
    "\n",
    "actual_pressure = float(input(\"enter the pressure value : \"))\n",
    "scaled_pressure = (actual_pressure - pressure_min)/(pressure_max-pressure_min)\n",
    "\n",
    "scaled_weight = scaled_pressure*m+c\n",
    "predicted_weight = scaled_weight*(weight_max-weight_min)+weight_min\n",
    "\n",
    "print(\"the predicted weight : \",predicted_weight)"
   ]
  },
  {
   "cell_type": "code",
   "execution_count": null,
   "metadata": {},
   "outputs": [],
   "source": []
  }
 ],
 "metadata": {
  "kernelspec": {
   "display_name": "Python 3",
   "language": "python",
   "name": "python3"
  },
  "language_info": {
   "codemirror_mode": {
    "name": "ipython",
    "version": 3
   },
   "file_extension": ".py",
   "mimetype": "text/x-python",
   "name": "python",
   "nbconvert_exporter": "python",
   "pygments_lexer": "ipython3",
   "version": "3.8.2"
  }
 },
 "nbformat": 4,
 "nbformat_minor": 4
}
