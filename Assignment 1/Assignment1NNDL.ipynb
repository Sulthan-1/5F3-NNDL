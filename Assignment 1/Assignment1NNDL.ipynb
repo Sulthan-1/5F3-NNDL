{
 "cells": [
  {
   "cell_type": "code",
   "execution_count": 19,
   "metadata": {},
   "outputs": [
    {
     "name": "stdout",
     "output_type": "stream",
     "text": [
      "derivative of y wrt x is  4*x**3 + 6*x\n"
     ]
    }
   ],
   "source": [
    "from sympy import *\n",
    "x = Symbol('x')\n",
    "\n",
    "#computing first derivative of equation and storing in variable y\n",
    "y = diff(x**4 + 3*x**2 + 10, x)\n",
    "print('derivative of y wrt x is ',y)"
   ]
  },
  {
   "cell_type": "code",
   "execution_count": 20,
   "metadata": {},
   "outputs": [
    {
     "name": "stdout",
     "output_type": "stream",
     "text": [
      "0\n",
      "global minimum point obtained for given equation is : 10\n",
      "final slope obtained is : 0\n"
     ]
    }
   ],
   "source": [
    "def derive(xx):\n",
    "     x = symbols('x')\n",
    "     derivated = y.subs(x, xx) \n",
    "     derivated = round(derivated,2)\n",
    "     return derivated\n",
    "\n",
    "num_of_iters = 2\n",
    "epochs = 3\n",
    "N = 0.1\n",
    "slope = 1\n",
    "for i in range(1,epochs+1):\n",
    "  value = derive(slope)\n",
    "  change_in_x = (-1) * (N) * (value)\n",
    "  slope = slope + change_in_x\n",
    "\n",
    "print(slope)\n",
    "eqn = x**4 + 3*x**2 + 10\n",
    "x = Symbol('x')\n",
    "# substituting final slope in equation and computing the global minimum point for given equation\n",
    "print(\"global minimum point obtained for given equation is :\",eqn.subs(x,slope))\n",
    "print(\"final slope obtained is :\",slope)"
   ]
  },
  {
   "cell_type": "code",
   "execution_count": null,
   "metadata": {},
   "outputs": [],
   "source": []
  }
 ],
 "metadata": {
  "kernelspec": {
   "display_name": "Python 3",
   "language": "python",
   "name": "python3"
  },
  "language_info": {
   "codemirror_mode": {
    "name": "ipython",
    "version": 3
   },
   "file_extension": ".py",
   "mimetype": "text/x-python",
   "name": "python",
   "nbconvert_exporter": "python",
   "pygments_lexer": "ipython3",
   "version": "3.8.2"
  }
 },
 "nbformat": 4,
 "nbformat_minor": 4
}
