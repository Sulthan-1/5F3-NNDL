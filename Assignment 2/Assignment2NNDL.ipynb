{
 "cells": [
  {
   "cell_type": "code",
   "execution_count": 1,
   "metadata": {},
   "outputs": [
    {
     "name": "stdout",
     "output_type": "stream",
     "text": [
      "1st order derivative : \n",
      "df/dx : 2*x \n",
      "df/dy : 2*y \n",
      "x value = -0.64 \n",
      "y value = 0.64\n"
     ]
    }
   ],
   "source": [
    "from sympy import *\n",
    "x, y = symbols('x y') \n",
    "exp = x**2 + y**2 + 10 \n",
    "exp_diff = Derivative(exp,x)\n",
    "dfx = exp_diff.doit()\n",
    "exp_diff = Derivative(exp,y)\n",
    "dfy = exp_diff.doit()\n",
    "print(f\"1st order derivative : \\ndf/dx : {dfx} \\ndf/dy : {dfy} \") \n",
    "\n",
    "#step 1 declarations\n",
    "x1 = -1.0 \n",
    "y1 = 1.0  \n",
    "itr = 2  \n",
    "n = 0.1\n",
    "\n",
    "for i in range(0,itr):\n",
    "  #step 2:\n",
    "  x, y = symbols('x y')\n",
    "  dfdx = dfx.subs(x,x1)\n",
    "  dfdx = round(dfdx,2)\n",
    "  dfdy = dfy.subs(y,y1)\n",
    "  dfdy = round(dfdy,2)\n",
    "  #step 3:\n",
    "  dx=(-1.0)*n*dfdx\n",
    "  dy=(-1.0)*n*dfdy\n",
    "  #step 4:\n",
    "  x1=x1+dx\n",
    "  y1=y1+dy\n",
    "  x1=round(x1,2)\n",
    "  y1=round(y1,2)\n",
    "\n",
    "print(f'x value = {x1} \\ny value = {y1}')"
   ]
  },
  {
   "cell_type": "code",
   "execution_count": null,
   "metadata": {},
   "outputs": [],
   "source": []
  }
 ],
 "metadata": {
  "kernelspec": {
   "display_name": "Python 3",
   "language": "python",
   "name": "python3"
  },
  "language_info": {
   "codemirror_mode": {
    "name": "ipython",
    "version": 3
   },
   "file_extension": ".py",
   "mimetype": "text/x-python",
   "name": "python",
   "nbconvert_exporter": "python",
   "pygments_lexer": "ipython3",
   "version": "3.8.2"
  }
 },
 "nbformat": 4,
 "nbformat_minor": 4
}
