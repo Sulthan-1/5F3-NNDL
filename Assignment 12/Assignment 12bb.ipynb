{
 "cells": [
  {
   "cell_type": "code",
   "execution_count": 1,
   "metadata": {},
   "outputs": [],
   "source": [
    "import pandas as pd\n",
    "import numpy as np\n",
    "import math\n",
    "import random\n",
    "import matplotlib.pyplot as plt\n",
    "from random import shuffle\n",
    "from sklearn.preprocessing import minmax_scale\n",
    "from sklearn.model_selection import train_test_split"
   ]
  },
  {
   "cell_type": "code",
   "execution_count": 2,
   "metadata": {},
   "outputs": [
    {
     "data": {
      "text/html": [
       "<div>\n",
       "<style scoped>\n",
       "    .dataframe tbody tr th:only-of-type {\n",
       "        vertical-align: middle;\n",
       "    }\n",
       "\n",
       "    .dataframe tbody tr th {\n",
       "        vertical-align: top;\n",
       "    }\n",
       "\n",
       "    .dataframe thead th {\n",
       "        text-align: right;\n",
       "    }\n",
       "</style>\n",
       "<table border=\"1\" class=\"dataframe\">\n",
       "  <thead>\n",
       "    <tr style=\"text-align: right;\">\n",
       "      <th></th>\n",
       "      <th>5551.82208</th>\n",
       "    </tr>\n",
       "  </thead>\n",
       "  <tbody>\n",
       "    <tr>\n",
       "      <th>0</th>\n",
       "      <td>4983.17184</td>\n",
       "    </tr>\n",
       "    <tr>\n",
       "      <th>1</th>\n",
       "      <td>4888.39680</td>\n",
       "    </tr>\n",
       "    <tr>\n",
       "      <th>2</th>\n",
       "      <td>5072.95872</td>\n",
       "    </tr>\n",
       "    <tr>\n",
       "      <th>3</th>\n",
       "      <td>5196.25980</td>\n",
       "    </tr>\n",
       "    <tr>\n",
       "      <th>4</th>\n",
       "      <td>5641.29720</td>\n",
       "    </tr>\n",
       "  </tbody>\n",
       "</table>\n",
       "</div>"
      ],
      "text/plain": [
       "   5551.82208\n",
       "0  4983.17184\n",
       "1  4888.39680\n",
       "2  5072.95872\n",
       "3  5196.25980\n",
       "4  5641.29720"
      ]
     },
     "execution_count": 2,
     "metadata": {},
     "output_type": "execute_result"
    }
   ],
   "source": [
    "load_data = pd.read_csv(\"Loadd.csv\")\n",
    "load_data.head()"
   ]
  },
  {
   "cell_type": "code",
   "execution_count": 3,
   "metadata": {},
   "outputs": [
    {
     "name": "stdout",
     "output_type": "stream",
     "text": [
      "<class 'pandas.core.frame.DataFrame'>\n",
      "RangeIndex: 2183 entries, 0 to 2182\n",
      "Data columns (total 1 columns):\n",
      " #   Column      Non-Null Count  Dtype  \n",
      "---  ------      --------------  -----  \n",
      " 0   5551.82208  2183 non-null   float64\n",
      "dtypes: float64(1)\n",
      "memory usage: 17.2 KB\n"
     ]
    }
   ],
   "source": [
    "load_data.info()"
   ]
  },
  {
   "cell_type": "code",
   "execution_count": 4,
   "metadata": {},
   "outputs": [
    {
     "data": {
      "text/plain": [
       "{'whiskers': [<matplotlib.lines.Line2D at 0x1d2e89020a0>,\n",
       "  <matplotlib.lines.Line2D at 0x1d2e8902400>],\n",
       " 'caps': [<matplotlib.lines.Line2D at 0x1d2e8902760>,\n",
       "  <matplotlib.lines.Line2D at 0x1d2e8902ac0>],\n",
       " 'boxes': [<matplotlib.lines.Line2D at 0x1d2e88e1d00>],\n",
       " 'medians': [<matplotlib.lines.Line2D at 0x1d2e8902e20>],\n",
       " 'fliers': [<matplotlib.lines.Line2D at 0x1d2e890f1c0>],\n",
       " 'means': []}"
      ]
     },
     "execution_count": 4,
     "metadata": {},
     "output_type": "execute_result"
    },
    {
     "data": {
      "image/png": "[encoded data removed]",
      "text/plain": [
       "<Figure size 432x288 with 1 Axes>"
      ]
     },
     "metadata": {
      "needs_background": "light"
     },
     "output_type": "display_data"
    }
   ],
   "source": [
    "plt.boxplot(load_data.iloc[:,0])"
   ]
  },
  {
   "cell_type": "code",
   "execution_count": 5,
   "metadata": {},
   "outputs": [
    {
     "name": "stdout",
     "output_type": "stream",
     "text": [
      "(array([928], dtype=int64),)\n"
     ]
    }
   ],
   "source": [
    "from scipy import stats\n",
    "\n",
    "z = np.abs(stats.zscore(load_data.iloc[:,0]))\n",
    "\n",
    "threshold = 3\n",
    "print(np.where(z > 3))"
   ]
  },
  {
   "cell_type": "code",
   "execution_count": 6,
   "metadata": {},
   "outputs": [],
   "source": [
    "load_data.iloc[928,0] = load_data.iloc[927,0]"
   ]
  },
  {
   "cell_type": "code",
   "execution_count": 7,
   "metadata": {},
   "outputs": [
    {
     "data": {
      "text/plain": [
       "{'whiskers': [<matplotlib.lines.Line2D at 0x1d2e89e10a0>,\n",
       "  <matplotlib.lines.Line2D at 0x1d2e89e1400>],\n",
       " 'caps': [<matplotlib.lines.Line2D at 0x1d2e89e1760>,\n",
       "  <matplotlib.lines.Line2D at 0x1d2e89e1ac0>],\n",
       " 'boxes': [<matplotlib.lines.Line2D at 0x1d2e89d1d00>],\n",
       " 'medians': [<matplotlib.lines.Line2D at 0x1d2e89e1e20>],\n",
       " 'fliers': [<matplotlib.lines.Line2D at 0x1d2e89ec1c0>],\n",
       " 'means': []}"
      ]
     },
     "execution_count": 7,
     "metadata": {},
     "output_type": "execute_result"
    },
    {
     "data": {
      "image/png": "[encoded data removed]",
      "text/plain": [
       "<Figure size 432x288 with 1 Axes>"
      ]
     },
     "metadata": {
      "needs_background": "light"
     },
     "output_type": "display_data"
    }
   ],
   "source": [
    "plt.boxplot(load_data.iloc[:,0])"
   ]
  },
  {
   "cell_type": "code",
   "execution_count": 8,
   "metadata": {},
   "outputs": [],
   "source": [
    "x = []\n",
    "y = []\n",
    "for i in range(len(load_data.iloc[:,0])-24):\n",
    "  x.append(load_data.iloc[i,0])\n",
    "  y.append(load_data.iloc[i+24,0])"
   ]
  },
  {
   "cell_type": "code",
   "execution_count": 9,
   "metadata": {},
   "outputs": [
    {
     "data": {
      "text/plain": [
       "<matplotlib.collections.PathCollection at 0x1d2e89f6ac0>"
      ]
     },
     "execution_count": 9,
     "metadata": {},
     "output_type": "execute_result"
    },
    {
     "data": {
      "image/png": "[encoded data removed]",
      "text/plain": [
       "<Figure size 432x288 with 1 Axes>"
      ]
     },
     "metadata": {
      "needs_background": "light"
     },
     "output_type": "display_data"
    }
   ],
   "source": [
    "plt.scatter(x,y)"
   ]
  },
  {
   "cell_type": "code",
   "execution_count": 10,
   "metadata": {},
   "outputs": [],
   "source": [
    "def error(d,m,c):\n",
    "  sum = 0\n",
    "  for i in range(len(d)):\n",
    "    sum = sum + math.pow(d[i][1]-m*d[i][0]-c,2)\n",
    "  return 0.5*sum/len(d)\n",
    "\n",
    "def gradm(d,m,c,v_m,v_c,momentum_coeff):\n",
    "  sum = 0\n",
    "  for i in range(len(d)):\n",
    "    sum = sum + (d[i][1]-(m+momentum_coeff*v_m)*d[i][0]-(c+momentum_coeff*v_c))*d[i][0]\n",
    "  return -1*sum/len(d)\n",
    "\n",
    "def gradc(d,m,c,v_m,v_c,momentum_coeff):\n",
    "  sum = 0\n",
    "  for i in range(len(d)):\n",
    "    sum = sum + (d[i][1]-(m+momentum_coeff*v_m)*d[i][0]-(c+momentum_coeff*v_c))\n",
    "  return -1*sum/len(d)"
   ]
  },
  {
   "cell_type": "code",
   "execution_count": 11,
   "metadata": {},
   "outputs": [],
   "source": [
    "learning_rate = 0.01\n",
    "epochs = 20\n",
    "\n",
    "m = 1\n",
    "c = 1\n",
    "\n",
    "v_m = 0\n",
    "v_c = 0\n",
    "momentum_coeff = 0.9\n",
    "\n",
    "batch_size = 400"
   ]
  },
  {
   "cell_type": "code",
   "execution_count": 12,
   "metadata": {},
   "outputs": [],
   "source": [
    "x = minmax_scale(x)\n",
    "y = minmax_scale(y)"
   ]
  },
  {
   "cell_type": "code",
   "execution_count": 13,
   "metadata": {},
   "outputs": [
    {
     "name": "stdout",
     "output_type": "stream",
     "text": [
      "2159\n"
     ]
    },
    {
     "data": {
      "text/plain": [
       "1727"
      ]
     },
     "execution_count": 13,
     "metadata": {},
     "output_type": "execute_result"
    }
   ],
   "source": [
    "data = []\n",
    "\n",
    "for i in range(len(x)):\n",
    "  data.append((x[i],y[i]))\n",
    "\n",
    "print(len(data))\n",
    "\n",
    "data_train,data_test = train_test_split(data,test_size=0.2)\n",
    "\n",
    "len(data_train)"
   ]
  },
  {
   "cell_type": "code",
   "execution_count": 14,
   "metadata": {},
   "outputs": [
    {
     "name": "stdout",
     "output_type": "stream",
     "text": [
      "epoch 0, batch 0, error 0.4923155565250468\n",
      "epoch 0, batch 1, error 0.47967295006204513\n",
      "epoch 0, batch 2, error 0.44698663996720756\n",
      "epoch 0, batch 3, error 0.40766120328351924\n",
      "epoch 0, batch 4, error 0.3696943011485429\n",
      "epoch 1, batch 0, error 0.3232620053799119\n",
      "epoch 1, batch 1, error 0.28407008078852364\n",
      "epoch 1, batch 2, error 0.2371648278941288\n",
      "epoch 1, batch 3, error 0.19463391057829668\n",
      "epoch 1, batch 4, error 0.1649162436143488\n",
      "epoch 2, batch 0, error 0.13256003617069698\n",
      "epoch 2, batch 1, error 0.10471952051619397\n",
      "epoch 2, batch 2, error 0.07480480385679421\n",
      "epoch 2, batch 3, error 0.05585992848300598\n",
      "epoch 2, batch 4, error 0.04137499100695227\n",
      "epoch 3, batch 0, error 0.029559949329676285\n",
      "epoch 3, batch 1, error 0.021639137359721995\n",
      "epoch 3, batch 2, error 0.01677645121515984\n",
      "epoch 3, batch 3, error 0.011910954317651401\n",
      "epoch 3, batch 4, error 0.007190320845315306\n",
      "epoch 4, batch 0, error 0.010089356463883608\n",
      "epoch 4, batch 1, error 0.008635000248049455\n",
      "epoch 4, batch 2, error 0.010527754762393244\n",
      "epoch 4, batch 3, error 0.013409273446045766\n",
      "epoch 4, batch 4, error 0.01597175779404828\n",
      "epoch 5, batch 0, error 0.015453315430668935\n",
      "epoch 5, batch 1, error 0.018428273898787872\n",
      "epoch 5, batch 2, error 0.018460375279422552\n",
      "epoch 5, batch 3, error 0.019441312662097587\n",
      "epoch 5, batch 4, error 0.024434871540339506\n",
      "epoch 6, batch 0, error 0.02190099950483869\n",
      "epoch 6, batch 1, error 0.020865772696614392\n",
      "epoch 6, batch 2, error 0.01959994699926377\n",
      "epoch 6, batch 3, error 0.019769540308670622\n",
      "epoch 6, batch 4, error 0.018048333063152178\n",
      "epoch 7, batch 0, error 0.01727020428685688\n",
      "epoch 7, batch 1, error 0.017091826739425293\n",
      "epoch 7, batch 2, error 0.01789134250841303\n",
      "epoch 7, batch 3, error 0.015091004700848986\n",
      "epoch 7, batch 4, error 0.012660022863273264\n",
      "epoch 8, batch 0, error 0.013689054782468558\n",
      "epoch 8, batch 1, error 0.012483341073475998\n",
      "epoch 8, batch 2, error 0.012058836516812318\n",
      "epoch 8, batch 3, error 0.010532916941584713\n",
      "epoch 8, batch 4, error 0.01129725574660486\n",
      "epoch 9, batch 0, error 0.009787483308597557\n",
      "epoch 9, batch 1, error 0.009861515356516703\n",
      "epoch 9, batch 2, error 0.009740142628024315\n",
      "epoch 9, batch 3, error 0.0101598572770052\n",
      "epoch 9, batch 4, error 0.008226665133892919\n",
      "epoch 10, batch 0, error 0.008135511267701076\n",
      "epoch 10, batch 1, error 0.009680544453378136\n",
      "epoch 10, batch 2, error 0.010796286093653464\n",
      "epoch 10, batch 3, error 0.008743386303695802\n",
      "epoch 10, batch 4, error 0.007693876770336361\n",
      "epoch 11, batch 0, error 0.009955231811011996\n",
      "epoch 11, batch 1, error 0.010520593100927664\n",
      "epoch 11, batch 2, error 0.00880746393718085\n",
      "epoch 11, batch 3, error 0.007486284049258497\n",
      "epoch 11, batch 4, error 0.010851723447947721\n",
      "epoch 12, batch 0, error 0.009771509188498648\n",
      "epoch 12, batch 1, error 0.008707066786644423\n",
      "epoch 12, batch 2, error 0.00961912934152888\n",
      "epoch 12, batch 3, error 0.00974392926104385\n",
      "epoch 12, batch 4, error 0.00841332685626595\n",
      "epoch 13, batch 0, error 0.0106472620846836\n",
      "epoch 13, batch 1, error 0.008922417221772444\n",
      "epoch 13, batch 2, error 0.008953482637646396\n",
      "epoch 13, batch 3, error 0.009167926239670603\n",
      "epoch 13, batch 4, error 0.00819033332817909\n",
      "epoch 14, batch 0, error 0.009136389850716522\n",
      "epoch 14, batch 1, error 0.009920731680949734\n",
      "epoch 14, batch 2, error 0.009108823990606115\n",
      "epoch 14, batch 3, error 0.009374173971645318\n",
      "epoch 14, batch 4, error 0.007294996346499033\n",
      "epoch 15, batch 0, error 0.00950535123042318\n",
      "epoch 15, batch 1, error 0.009996414320645321\n",
      "epoch 15, batch 2, error 0.008439285057966232\n",
      "epoch 15, batch 3, error 0.009008556380262971\n",
      "epoch 15, batch 4, error 0.008159245813077717\n",
      "epoch 16, batch 0, error 0.009113783787263336\n",
      "epoch 16, batch 1, error 0.008828710176375442\n",
      "epoch 16, batch 2, error 0.009431974184765511\n",
      "epoch 16, batch 3, error 0.008411213382146218\n",
      "epoch 16, batch 4, error 0.011505222017345938\n",
      "epoch 17, batch 0, error 0.009409336170734403\n",
      "epoch 17, batch 1, error 0.009203505761249658\n",
      "epoch 17, batch 2, error 0.008873155916627925\n",
      "epoch 17, batch 3, error 0.008980669152420288\n",
      "epoch 17, batch 4, error 0.009203147513894592\n",
      "epoch 18, batch 0, error 0.008477288364315915\n",
      "epoch 18, batch 1, error 0.009943230004759438\n",
      "epoch 18, batch 2, error 0.009773146641059865\n",
      "epoch 18, batch 3, error 0.00875421754457748\n",
      "epoch 18, batch 4, error 0.007585862092557438\n",
      "epoch 19, batch 0, error 0.010630058797092244\n",
      "epoch 19, batch 1, error 0.009536631325827787\n",
      "epoch 19, batch 2, error 0.007811773435996813\n",
      "epoch 19, batch 3, error 0.008760646941402602\n",
      "epoch 19, batch 4, error 0.008117916175293208\n"
     ]
    }
   ],
   "source": [
    "error_list = []\n",
    "number_of_batches = (len(data_train)//batch_size)\n",
    "for i in range(epochs):\n",
    "  for j in range(number_of_batches+1):\n",
    "    if j == number_of_batches:\n",
    "      d = data_train[j*batch_size:]\n",
    "    else:\n",
    "      d = data_train[j*batch_size:(j+1)*batch_size]\n",
    "\n",
    "    deltam = -1*learning_rate*gradm(d,m,c,v_m,v_c,momentum_coeff)\n",
    "    deltac = -1*learning_rate*gradc(d,m,c,v_m,v_c,momentum_coeff)\n",
    "\n",
    "    v_m = v_m*momentum_coeff + deltam\n",
    "    v_c = v_c*momentum_coeff + deltac\n",
    "\n",
    "    m = m + v_m\n",
    "    c = c + v_c\n",
    "\n",
    "    print(\"epoch {}, batch {}, error {}\".format(i,j,error(d,m,c)))\n",
    "    error_list.append(error(d,m,c))\n",
    "  random.shuffle(data_train)"
   ]
  },
  {
   "cell_type": "code",
   "execution_count": 15,
   "metadata": {},
   "outputs": [
    {
     "data": {
      "text/plain": [
       "Text(0.5, 1.0, 'error graph')"
      ]
     },
     "execution_count": 15,
     "metadata": {},
     "output_type": "execute_result"
    },
    {
     "data": {
      "image/png": "[encoded data removed]",
      "text/plain": [
       "<Figure size 432x288 with 1 Axes>"
      ]
     },
     "metadata": {
      "needs_background": "light"
     },
     "output_type": "display_data"
    }
   ],
   "source": [
    "x1 = range(len(error_list))\n",
    "y1 = error_list\n",
    "\n",
    "plt.plot(x1,y1)\n",
    "plt.title(\"error graph\")"
   ]
  },
  {
   "cell_type": "code",
   "execution_count": 16,
   "metadata": {},
   "outputs": [
    {
     "name": "stdout",
     "output_type": "stream",
     "text": [
      "train error : 0.009103076709934573\n",
      "test error : 0.007670540340171891\n"
     ]
    }
   ],
   "source": [
    "print(\"train error :\",error(data_train,m,c))\n",
    "print(\"test error :\",error(data_test,m,c))"
   ]
  },
  {
   "cell_type": "code",
   "execution_count": 17,
   "metadata": {},
   "outputs": [
    {
     "name": "stdout",
     "output_type": "stream",
     "text": [
      "0.6327461977365972 0.17689142046168974\n"
     ]
    }
   ],
   "source": [
    "print(m,c)"
   ]
  },
  {
   "cell_type": "code",
   "execution_count": 18,
   "metadata": {},
   "outputs": [
    {
     "data": {
      "text/plain": [
       "<matplotlib.collections.PathCollection at 0x1d2e8b46a30>"
      ]
     },
     "execution_count": 18,
     "metadata": {},
     "output_type": "execute_result"
    },
    {
     "data": {
      "image/png": "[encoded data removed]",
      "text/plain": [
       "<Figure size 432x288 with 1 Axes>"
      ]
     },
     "metadata": {
      "needs_background": "light"
     },
     "output_type": "display_data"
    }
   ],
   "source": [
    "plt.scatter(x,y)"
   ]
  },
  {
   "cell_type": "code",
   "execution_count": 19,
   "metadata": {},
   "outputs": [
    {
     "data": {
      "text/plain": [
       "Text(0.5, 1.0, 'predicted line')"
      ]
     },
     "execution_count": 19,
     "metadata": {},
     "output_type": "execute_result"
    },
    {
     "data": {
      "image/png": "[encoded data removed]",
      "text/plain": [
       "<Figure size 432x288 with 1 Axes>"
      ]
     },
     "metadata": {
      "needs_background": "light"
     },
     "output_type": "display_data"
    }
   ],
   "source": [
    "x1 = x\n",
    "y1 = [i*m+c for i in x1]\n",
    "plt.plot(x1,y1)\n",
    "plt.title(\"predicted line\")"
   ]
  },
  {
   "cell_type": "code",
   "execution_count": 20,
   "metadata": {},
   "outputs": [
    {
     "data": {
      "text/plain": [
       "[<matplotlib.lines.Line2D at 0x1d2e8c11640>]"
      ]
     },
     "execution_count": 20,
     "metadata": {},
     "output_type": "execute_result"
    },
    {
     "data": {
      "image/png": "[encoded data removed]",
      "text/plain": [
       "<Figure size 432x288 with 1 Axes>"
      ]
     },
     "metadata": {
      "needs_background": "light"
     },
     "output_type": "display_data"
    }
   ],
   "source": [
    "plt.scatter(x,y)\n",
    "x1 = x\n",
    "y1 = [i*m+c for i in x1]\n",
    "plt.plot(x1,y1)"
   ]
  },
  {
   "cell_type": "code",
   "execution_count": 21,
   "metadata": {},
   "outputs": [
    {
     "name": "stdout",
     "output_type": "stream",
     "text": [
      "enter yesterday load at this time : 3385\n",
      "predicted load for this hour is :  4348.890173499041\n"
     ]
    }
   ],
   "source": [
    "input_load = float(input(\"enter yesterday load at this time : \"))\n",
    "\n",
    "max_value = 8841.669480\n",
    "min_value = 3377.919600\n",
    "\n",
    "input_load = (input_load - min_value)/(max_value-min_value)\n",
    "output_load = input_load*m+c\n",
    "\n",
    "output_load = output_load*(max_value-min_value)+min_value\n",
    "\n",
    "print(\"predicted load for this hour is : \",output_load)"
   ]
  },
  {
   "cell_type": "code",
   "execution_count": null,
   "metadata": {},
   "outputs": [],
   "source": []
  }
 ],
 "metadata": {
  "kernelspec": {
   "display_name": "Python 3",
   "language": "python",
   "name": "python3"
  },
  "language_info": {
   "codemirror_mode": {
    "name": "ipython",
    "version": 3
   },
   "file_extension": ".py",
   "mimetype": "text/x-python",
   "name": "python",
   "nbconvert_exporter": "python",
   "pygments_lexer": "ipython3",
   "version": "3.8.2"
  }
 },
 "nbformat": 4,
 "nbformat_minor": 4
}
