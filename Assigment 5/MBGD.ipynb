{
 "cells": [
  {
   "cell_type": "code",
   "execution_count": 14,
   "metadata": {},
   "outputs": [],
   "source": [
    "import pandas as pd\n",
    "import numpy as np\n",
    "import matplotlib.pyplot as plt\n",
    "data = [[0.2,3.4],[0.4,3.8],[0.6,4.2],[0.8,4.6]] \n",
    "data_x = []\n",
    "data_y = []\n",
    "for i in range(len(data)):\n",
    "  data_x.append(data[i][0])\n",
    "  data_y.append(data[i][1])\n",
    "\n",
    "data_x = np.array(data_x)\n",
    "data_y = np.array(data_y)"
   ]
  },
  {
   "cell_type": "code",
   "execution_count": 15,
   "metadata": {},
   "outputs": [
    {
     "name": "stdout",
     "output_type": "stream",
     "text": [
      "2.0\n"
     ]
    }
   ],
   "source": [
    "# INITIALISING BATCH SIZE AND CALCULATING NUMBER OF BATCHES\n",
    "bs = 2\n",
    "nb = np.ceil(len(data)/bs)\n",
    "print(nb)"
   ]
  },
  {
   "cell_type": "code",
   "execution_count": 16,
   "metadata": {},
   "outputs": [
    {
     "name": "stdout",
     "output_type": "stream",
     "text": [
      "[3 1 0 2]\n"
     ]
    }
   ],
   "source": [
    "# SHUFFLING DATA POINTS\n",
    "import random\n",
    "samples = np.arange(len(data))\n",
    "random.shuffle(samples)\n",
    "print(samples)"
   ]
  },
  {
   "cell_type": "code",
   "execution_count": 17,
   "metadata": {},
   "outputs": [
    {
     "name": "stdout",
     "output_type": "stream",
     "text": [
      "0.8 4.6\n",
      "0.4 3.8\n",
      "0.2 3.4\n",
      "0.6 4.2\n"
     ]
    }
   ],
   "source": [
    "for i in samples:\n",
    "  print(data_x[i],data_y[i])"
   ]
  },
  {
   "cell_type": "code",
   "execution_count": 18,
   "metadata": {},
   "outputs": [],
   "source": [
    "iter = 1\n",
    "epochs = 500\n",
    "batch = nb - 1\n",
    "bat = 1\n",
    "n = 0.1 \n",
    "m = 1\n",
    "c = -1"
   ]
  },
  {
   "cell_type": "code",
   "execution_count": 19,
   "metadata": {},
   "outputs": [
    {
     "name": "stdout",
     "output_type": "stream",
     "text": [
      "2.1068555087561944 2.944365085081335\n"
     ]
    }
   ],
   "source": [
    "while (iter<=epochs):\n",
    "  i = 0\n",
    "  # RUNNING ITERATION FOR N-1 BATCHES\n",
    "  while (bat <= batch):\n",
    "    der_m = 0\n",
    "    der_c = 0\n",
    "    err = 0\n",
    "    for k in range(0,bs):\n",
    "      der_m = der_m + (data_y[samples[i]] - (m*data_x[samples[i]])-c)*(data_x[samples[i]])\n",
    "      der_c = der_c + (data_y[samples[i]] - (m*data_x[samples[i]])-c)\n",
    "      i = i+1\n",
    "      \n",
    "    # err = der_c**2\n",
    "    # err = (1/(2*bs))*err\n",
    "    # error.append(err)\n",
    "    \n",
    "    der_m = (1/bs)*der_m\n",
    "    der_c = (1/bs)*der_c\n",
    "    change_m = (-1)*n*der_m\n",
    "    change_c = (-1)*n*der_c\n",
    "    \n",
    "    m = m + change_m\n",
    "    c = c + change_c\n",
    "    bat = bat + 1\n",
    "    \n",
    " \n",
    "  # EXECUTING FOR LAST BATCH\n",
    "  der_m = 0\n",
    "  der_c = 0\n",
    "  err = 0\n",
    "  # FINDING REMAINING NUMBER OF BATCHES\n",
    "  es = len(samples) - i  \n",
    "  \n",
    "  for k in range(i,len(samples)):\n",
    "    der_m = der_m + (data_y[samples[i]] - (m*data_x[samples[i]])-c)*(data_x[samples[i]])\n",
    "    der_c = der_c + (data_y[samples[i]] - (m*data_x[samples[i]])-c)\n",
    "    i = i + 1\n",
    "  der_m = (-1/es)*der_m\n",
    "  der_c = (-1/es)*der_c\n",
    "  \n",
    "  change_m = (-1)*n*der_m\n",
    "  change_c = (-1)*n*der_c\n",
    "  \n",
    "  m = m + change_m\n",
    "  c = c + change_c\n",
    "  \n",
    "  iter = iter + 1\n",
    "\n",
    "print(m,c)"
   ]
  },
  {
   "cell_type": "code",
   "execution_count": 20,
   "metadata": {},
   "outputs": [
    {
     "name": "stdout",
     "output_type": "stream",
     "text": [
      "0.0005757765452291024\n"
     ]
    }
   ],
   "source": [
    "# MEAN SQUARE ERROR IN EXPONENTIAL FORM\n",
    "# MINIMISED ERROR\n",
    "mse = 0\n",
    "for i in range(0,len(data)):\n",
    "  mse += (data_y[i] - (m*data_x[i]) -c)**2\n",
    "mse = (1/len(data))*mse\n",
    "print(mse)"
   ]
  },
  {
   "cell_type": "code",
   "execution_count": 21,
   "metadata": {},
   "outputs": [
    {
     "data": {
      "text/plain": [
       "[3.3657361868325744, 3.787107288583813, 4.208478390335052, 4.629849492086291]"
      ]
     },
     "execution_count": 21,
     "metadata": {},
     "output_type": "execute_result"
    }
   ],
   "source": [
    "pred = []\n",
    "for i in range(0,len(data)):\n",
    "  pred.append(m*data_x[i] + c)\n",
    "pred"
   ]
  },
  {
   "cell_type": "code",
   "execution_count": 22,
   "metadata": {},
   "outputs": [
    {
     "data": {
      "image/png": "[encoded data removed]",
      "text/plain": [
       "<Figure size 432x288 with 1 Axes>"
      ]
     },
     "metadata": {
      "needs_background": "light"
     },
     "output_type": "display_data"
    }
   ],
   "source": [
    "plt.scatter(data_x,data_y,label='Original Data Points')\n",
    "plt.plot(data_x,pred,'green',label='Predicted Regression Line')\n",
    "plt.legend()\n",
    "plt.title(\"Linear Regression using Mini Batch Gradient Descent\")\n",
    "plt.xlabel(\"sample X\")\n",
    "plt.ylabel(\"sample Y\")\n",
    "plt.grid()\n"
   ]
  },
  {
   "cell_type": "code",
   "execution_count": null,
   "metadata": {},
   "outputs": [],
   "source": []
  },
  {
   "cell_type": "code",
   "execution_count": null,
   "metadata": {},
   "outputs": [],
   "source": []
  },
  {
   "cell_type": "code",
   "execution_count": null,
   "metadata": {},
   "outputs": [],
   "source": []
  }
 ],
 "metadata": {
  "kernelspec": {
   "display_name": "Python 3",
   "language": "python",
   "name": "python3"
  },
  "language_info": {
   "codemirror_mode": {
    "name": "ipython",
    "version": 3
   },
   "file_extension": ".py",
   "mimetype": "text/x-python",
   "name": "python",
   "nbconvert_exporter": "python",
   "pygments_lexer": "ipython3",
   "version": "3.8.2"
  }
 },
 "nbformat": 4,
 "nbformat_minor": 4
}
