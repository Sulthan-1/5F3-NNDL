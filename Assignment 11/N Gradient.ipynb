{
 "cells": [
  {
   "cell_type": "code",
   "execution_count": 9,
   "metadata": {},
   "outputs": [],
   "source": [
    "import numpy as np\n",
    "import pandas as pd\n",
    "import matplotlib.pyplot as plt"
   ]
  },
  {
   "cell_type": "code",
   "execution_count": 10,
   "metadata": {},
   "outputs": [
    {
     "name": "stdout",
     "output_type": "stream",
     "text": [
      "[[0.2 3.4]\n",
      " [0.4 3.8]\n",
      " [0.6 4.2]\n",
      " [0.8 4.6]]\n"
     ]
    }
   ],
   "source": [
    "data = [[0.2,3.4],[0.4,3.8],[0.6,4.2],[0.8,4.6]]\n",
    "data = np.array(data)\n",
    "print(data)"
   ]
  },
  {
   "cell_type": "code",
   "execution_count": 11,
   "metadata": {},
   "outputs": [],
   "source": [
    "data_x = []\n",
    "data_y = []\n",
    "for i in range(0,len(data)):\n",
    "  data_x.append(data[i][0])\n",
    "for i in range(0,len(data)):\n",
    "  data_y.append(data[i][1])\n",
    "data_x=np.array(data_x)\n",
    "data_y=np.array(data_y)"
   ]
  },
  {
   "cell_type": "code",
   "execution_count": 12,
   "metadata": {},
   "outputs": [],
   "source": [
    "m = 1\n",
    "c = -1\n",
    "iter = 1\n",
    "epochs = 10000\n",
    "alpha = 0.1\n",
    "ns = len(data)\n",
    "error = []\n",
    "vm = 0\n",
    "vc = 0\n",
    "moment = 0.9"
   ]
  },
  {
   "cell_type": "code",
   "execution_count": 13,
   "metadata": {},
   "outputs": [
    {
     "name": "stdout",
     "output_type": "stream",
     "text": [
      "2.000000000000001 2.9999999999999996\n"
     ]
    }
   ],
   "source": [
    "# while loop is runned until iter reaches epochs\n",
    "while (iter<=epochs):\n",
    "  # running for loop to calculate and update model parameters for each sample\n",
    "  for i in range(0,len(data)):\n",
    "\n",
    "    #  calculating error and storing in an list\n",
    "    err = (0.5) * ((data_y[i] - (m * data_x[i]) - c))**2\n",
    "    error.append(err)\n",
    "\n",
    "    # calculating derivatives of m and c\n",
    "    der_m = (-1) * (data_y[i] - ((m+(moment*vm))*data_x[i]) - (c+(moment*vc)))*(data_x[i])\n",
    "    der_c = (-1) * (data_y[i] - ((m+(moment*vm))*data_x[i]) - (c+(moment*vc)))\n",
    "    # print(\"derivatives at \",i,\"   \",der_m,der_c)\n",
    "\n",
    "    # calculating change in m and c\n",
    "    vm = (moment * vm) - (alpha * der_m)\n",
    "    vc = (moment * vc) - (alpha * der_c)\n",
    "    # print(\"changes at \",i,vm,vc)\n",
    "\n",
    "    #updating m and c\n",
    "    m = m + vm\n",
    "    c = c + vc\n",
    "    # print(\"values at\",i,m,c)\n",
    "\n",
    "    #incrementing no of iterations\n",
    "  iter = iter + 1\n",
    " \n",
    "\n",
    "  \n",
    "print(m,c)"
   ]
  },
  {
   "cell_type": "code",
   "execution_count": 14,
   "metadata": {},
   "outputs": [
    {
     "data": {
      "text/plain": [
       "9.860761315262648e-32"
      ]
     },
     "execution_count": 14,
     "metadata": {},
     "output_type": "execute_result"
    }
   ],
   "source": [
    "# computing mean squared error\n",
    "# minimised mean squared error of training data \n",
    "# represented in exponential form\n",
    "mse = 0\n",
    "for i in range(0,len(data_x)):\n",
    "  mse += (data_y[i] - (m*data_x[i]) - c)**2\n",
    "\n",
    "mse = mse/len(data)\n",
    "mse"
   ]
  },
  {
   "cell_type": "code",
   "execution_count": 15,
   "metadata": {},
   "outputs": [
    {
     "name": "stdout",
     "output_type": "stream",
     "text": [
      "predicted  original\n"
     ]
    },
    {
     "data": {
      "text/plain": [
       "[3.4, 3.8, 4.2, 4.6000000000000005]"
      ]
     },
     "execution_count": 15,
     "metadata": {},
     "output_type": "execute_result"
    }
   ],
   "source": [
    "pred = []\n",
    "# predictions of training data\n",
    "print(\"predicted\",\" original\")\n",
    "for i in range(0,len(data)):\n",
    "  pred.append(m*data_x[i] + c)\n",
    "\n",
    "pred"
   ]
  },
  {
   "cell_type": "code",
   "execution_count": 16,
   "metadata": {},
   "outputs": [
    {
     "data": {
      "image/png": "[encoded data removed]",
      "text/plain": [
       "<Figure size 432x288 with 1 Axes>"
      ]
     },
     "metadata": {
      "needs_background": "light"
     },
     "output_type": "display_data"
    }
   ],
   "source": [
    "plt.scatter(data_x,data_y,label=\"original data points\")\n",
    "plt.plot(data_x,pred,'green',label=\"regression line using NAGD\")\n",
    "plt.legend()\n",
    "plt.grid()\n",
    "plt.title(\"linear regression using nesterov accelerated gradient descent\")\n",
    "plt.xlabel(\"data x\")\n",
    "plt.ylabel(\"data y\")\n",
    "plt.show()\n"
   ]
  },
  {
   "cell_type": "code",
   "execution_count": null,
   "metadata": {},
   "outputs": [],
   "source": []
  }
 ],
 "metadata": {
  "kernelspec": {
   "display_name": "Python 3",
   "language": "python",
   "name": "python3"
  },
  "language_info": {
   "codemirror_mode": {
    "name": "ipython",
    "version": 3
   },
   "file_extension": ".py",
   "mimetype": "text/x-python",
   "name": "python",
   "nbconvert_exporter": "python",
   "pygments_lexer": "ipython3",
   "version": "3.8.2"
  }
 },
 "nbformat": 4,
 "nbformat_minor": 4
}
