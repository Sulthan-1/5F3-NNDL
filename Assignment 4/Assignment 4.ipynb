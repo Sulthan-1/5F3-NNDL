{
 "cells": [
  {
   "cell_type": "code",
   "execution_count": 11,
   "metadata": {},
   "outputs": [],
   "source": [
    "import numpy as np\n",
    "import matplotlib.pyplot as plt\n",
    "import pandas as pd\n",
    "from sklearn.preprocessing import minmax_scale\n",
    "from sklearn.model_selection import train_test_split"
   ]
  },
  {
   "cell_type": "code",
   "execution_count": 13,
   "metadata": {},
   "outputs": [
    {
     "data": {
      "text/html": [
       "<div>\n",
       "<style scoped>\n",
       "    .dataframe tbody tr th:only-of-type {\n",
       "        vertical-align: middle;\n",
       "    }\n",
       "\n",
       "    .dataframe tbody tr th {\n",
       "        vertical-align: top;\n",
       "    }\n",
       "\n",
       "    .dataframe thead th {\n",
       "        text-align: right;\n",
       "    }\n",
       "</style>\n",
       "<table border=\"1\" class=\"dataframe\">\n",
       "  <thead>\n",
       "    <tr style=\"text-align: right;\">\n",
       "      <th></th>\n",
       "      <th>X</th>\n",
       "      <th>Y</th>\n",
       "    </tr>\n",
       "  </thead>\n",
       "  <tbody>\n",
       "    <tr>\n",
       "      <th>0</th>\n",
       "      <td>7.6</td>\n",
       "      <td>157</td>\n",
       "    </tr>\n",
       "    <tr>\n",
       "      <th>1</th>\n",
       "      <td>7.1</td>\n",
       "      <td>174</td>\n",
       "    </tr>\n",
       "    <tr>\n",
       "      <th>2</th>\n",
       "      <td>8.2</td>\n",
       "      <td>175</td>\n",
       "    </tr>\n",
       "    <tr>\n",
       "      <th>3</th>\n",
       "      <td>7.5</td>\n",
       "      <td>188</td>\n",
       "    </tr>\n",
       "    <tr>\n",
       "      <th>4</th>\n",
       "      <td>7.4</td>\n",
       "      <td>171</td>\n",
       "    </tr>\n",
       "  </tbody>\n",
       "</table>\n",
       "</div>"
      ],
      "text/plain": [
       "     X    Y\n",
       "0  7.6  157\n",
       "1  7.1  174\n",
       "2  8.2  175\n",
       "3  7.5  188\n",
       "4  7.4  171"
      ]
     },
     "execution_count": 13,
     "metadata": {},
     "output_type": "execute_result"
    }
   ],
   "source": [
    "d1 = pd.read_csv('Ph1.csv')\n",
    "d1.head()"
   ]
  },
  {
   "cell_type": "code",
   "execution_count": 14,
   "metadata": {},
   "outputs": [
    {
     "data": {
      "text/html": [
       "<div>\n",
       "<style scoped>\n",
       "    .dataframe tbody tr th:only-of-type {\n",
       "        vertical-align: middle;\n",
       "    }\n",
       "\n",
       "    .dataframe tbody tr th {\n",
       "        vertical-align: top;\n",
       "    }\n",
       "\n",
       "    .dataframe thead th {\n",
       "        text-align: right;\n",
       "    }\n",
       "</style>\n",
       "<table border=\"1\" class=\"dataframe\">\n",
       "  <thead>\n",
       "    <tr style=\"text-align: right;\">\n",
       "      <th></th>\n",
       "      <th>X</th>\n",
       "      <th>Y</th>\n",
       "    </tr>\n",
       "  </thead>\n",
       "  <tbody>\n",
       "    <tr>\n",
       "      <th>count</th>\n",
       "      <td>34.000000</td>\n",
       "      <td>34.000000</td>\n",
       "    </tr>\n",
       "    <tr>\n",
       "      <th>mean</th>\n",
       "      <td>7.661765</td>\n",
       "      <td>142.794118</td>\n",
       "    </tr>\n",
       "    <tr>\n",
       "      <th>std</th>\n",
       "      <td>0.501522</td>\n",
       "      <td>55.787356</td>\n",
       "    </tr>\n",
       "    <tr>\n",
       "      <th>min</th>\n",
       "      <td>6.700000</td>\n",
       "      <td>35.000000</td>\n",
       "    </tr>\n",
       "    <tr>\n",
       "      <th>25%</th>\n",
       "      <td>7.300000</td>\n",
       "      <td>107.000000</td>\n",
       "    </tr>\n",
       "    <tr>\n",
       "      <th>50%</th>\n",
       "      <td>7.600000</td>\n",
       "      <td>147.000000</td>\n",
       "    </tr>\n",
       "    <tr>\n",
       "      <th>75%</th>\n",
       "      <td>8.000000</td>\n",
       "      <td>186.500000</td>\n",
       "    </tr>\n",
       "    <tr>\n",
       "      <th>max</th>\n",
       "      <td>8.800000</td>\n",
       "      <td>262.000000</td>\n",
       "    </tr>\n",
       "  </tbody>\n",
       "</table>\n",
       "</div>"
      ],
      "text/plain": [
       "               X           Y\n",
       "count  34.000000   34.000000\n",
       "mean    7.661765  142.794118\n",
       "std     0.501522   55.787356\n",
       "min     6.700000   35.000000\n",
       "25%     7.300000  107.000000\n",
       "50%     7.600000  147.000000\n",
       "75%     8.000000  186.500000\n",
       "max     8.800000  262.000000"
      ]
     },
     "execution_count": 14,
     "metadata": {},
     "output_type": "execute_result"
    }
   ],
   "source": [
    "d1.describe()"
   ]
  },
  {
   "cell_type": "code",
   "execution_count": 7,
   "metadata": {},
   "outputs": [
    {
     "data": {
      "text/plain": [
       "X    0\n",
       "Y    0\n",
       "dtype: int64"
      ]
     },
     "execution_count": 7,
     "metadata": {},
     "output_type": "execute_result"
    }
   ],
   "source": [
    "data.isnull().sum()"
   ]
  },
  {
   "cell_type": "code",
   "execution_count": 10,
   "metadata": {},
   "outputs": [
    {
     "name": "stdout",
     "output_type": "stream",
     "text": [
      "[[0.12500664 0.25847285]\n",
      " [1.13696519 0.56778404]\n",
      " [1.08934361 0.58597881]\n",
      " [0.32739835 0.8225109 ]\n",
      " [0.52979006 0.51319971]\n",
      " [0.27977677 0.00374598]\n",
      " [0.73218177 1.3501594 ]\n",
      " [0.68456019 0.85890045]\n",
      " [1.13696519 0.01444879]\n",
      " [0.32739835 0.85890045]\n",
      " [0.8869519  1.31376985]\n",
      " [1.3393569  1.02265344]\n",
      " [0.73218177 2.16892432]\n",
      " [0.27977677 0.6876555 ]\n",
      " [0.73218177 0.39653909]\n",
      " [0.68456019 1.12433013]\n",
      " [1.69651874 1.10613535]\n",
      " [1.13696519 1.22279597]\n",
      " [1.08934361 1.07723776]\n",
      " [0.48216848 0.22208329]\n",
      " [0.12500664 0.25847285]\n",
      " [2.30369386 0.07652509]\n",
      " [0.93457348 0.17820178]\n",
      " [0.48216848 1.63378385]\n",
      " [0.8869519  1.57919952]\n",
      " [0.07738507 0.5420973 ]\n",
      " [1.49412703 1.96128982]\n",
      " [0.52979006 0.32375998]\n",
      " [0.73218177 1.21530401]\n",
      " [1.69651874 1.72475773]\n",
      " [0.27977677 0.07652509]\n",
      " [1.94653203 0.46931819]\n",
      " [1.13696519 0.71334225]\n",
      " [0.73218177 1.01516147]]\n"
     ]
    }
   ],
   "source": [
    "from scipy import stats\n",
    "\n",
    "a = np.abs(stats.zscore(data))\n",
    "print(a)"
   ]
  },
  {
   "cell_type": "code",
   "execution_count": null,
   "metadata": {},
   "outputs": [],
   "source": [
    "#Normalizing the data"
   ]
  },
  {
   "cell_type": "code",
   "execution_count": 15,
   "metadata": {},
   "outputs": [
    {
     "data": {
      "text/html": [
       "<div>\n",
       "<style scoped>\n",
       "    .dataframe tbody tr th:only-of-type {\n",
       "        vertical-align: middle;\n",
       "    }\n",
       "\n",
       "    .dataframe tbody tr th {\n",
       "        vertical-align: top;\n",
       "    }\n",
       "\n",
       "    .dataframe thead th {\n",
       "        text-align: right;\n",
       "    }\n",
       "</style>\n",
       "<table border=\"1\" class=\"dataframe\">\n",
       "  <thead>\n",
       "    <tr style=\"text-align: right;\">\n",
       "      <th></th>\n",
       "      <th>X</th>\n",
       "      <th>Y</th>\n",
       "    </tr>\n",
       "  </thead>\n",
       "  <tbody>\n",
       "    <tr>\n",
       "      <th>0</th>\n",
       "      <td>0.428571</td>\n",
       "      <td>0.537445</td>\n",
       "    </tr>\n",
       "    <tr>\n",
       "      <th>1</th>\n",
       "      <td>0.190476</td>\n",
       "      <td>0.612335</td>\n",
       "    </tr>\n",
       "    <tr>\n",
       "      <th>2</th>\n",
       "      <td>0.714286</td>\n",
       "      <td>0.616740</td>\n",
       "    </tr>\n",
       "    <tr>\n",
       "      <th>3</th>\n",
       "      <td>0.380952</td>\n",
       "      <td>0.674009</td>\n",
       "    </tr>\n",
       "    <tr>\n",
       "      <th>4</th>\n",
       "      <td>0.333333</td>\n",
       "      <td>0.599119</td>\n",
       "    </tr>\n",
       "  </tbody>\n",
       "</table>\n",
       "</div>"
      ],
      "text/plain": [
       "          X         Y\n",
       "0  0.428571  0.537445\n",
       "1  0.190476  0.612335\n",
       "2  0.714286  0.616740\n",
       "3  0.380952  0.674009\n",
       "4  0.333333  0.599119"
      ]
     },
     "execution_count": 15,
     "metadata": {},
     "output_type": "execute_result"
    }
   ],
   "source": [
    "norm_data = d1.copy()\n",
    "norm_data = (norm_data - norm_data.min())/(norm_data.max() - norm_data.min())\n",
    "norm_data.head()"
   ]
  },
  {
   "cell_type": "code",
   "execution_count": 16,
   "metadata": {},
   "outputs": [],
   "source": [
    "#splitting the data for training & testing"
   ]
  },
  {
   "cell_type": "code",
   "execution_count": 17,
   "metadata": {},
   "outputs": [],
   "source": [
    "data_train,data_test = train_test_split(norm_data,test_size=0.1)"
   ]
  },
  {
   "cell_type": "code",
   "execution_count": 18,
   "metadata": {},
   "outputs": [
    {
     "data": {
      "text/html": [
       "<div>\n",
       "<style scoped>\n",
       "    .dataframe tbody tr th:only-of-type {\n",
       "        vertical-align: middle;\n",
       "    }\n",
       "\n",
       "    .dataframe tbody tr th {\n",
       "        vertical-align: top;\n",
       "    }\n",
       "\n",
       "    .dataframe thead th {\n",
       "        text-align: right;\n",
       "    }\n",
       "</style>\n",
       "<table border=\"1\" class=\"dataframe\">\n",
       "  <thead>\n",
       "    <tr style=\"text-align: right;\">\n",
       "      <th></th>\n",
       "      <th>X</th>\n",
       "      <th>Y</th>\n",
       "    </tr>\n",
       "  </thead>\n",
       "  <tbody>\n",
       "    <tr>\n",
       "      <th>20</th>\n",
       "      <td>0.428571</td>\n",
       "      <td>0.537445</td>\n",
       "    </tr>\n",
       "    <tr>\n",
       "      <th>23</th>\n",
       "      <td>0.571429</td>\n",
       "      <td>0.079295</td>\n",
       "    </tr>\n",
       "    <tr>\n",
       "      <th>4</th>\n",
       "      <td>0.333333</td>\n",
       "      <td>0.599119</td>\n",
       "    </tr>\n",
       "    <tr>\n",
       "      <th>10</th>\n",
       "      <td>0.666667</td>\n",
       "      <td>0.792952</td>\n",
       "    </tr>\n",
       "    <tr>\n",
       "      <th>8</th>\n",
       "      <td>0.190476</td>\n",
       "      <td>0.471366</td>\n",
       "    </tr>\n",
       "  </tbody>\n",
       "</table>\n",
       "</div>"
      ],
      "text/plain": [
       "           X         Y\n",
       "20  0.428571  0.537445\n",
       "23  0.571429  0.079295\n",
       "4   0.333333  0.599119\n",
       "10  0.666667  0.792952\n",
       "8   0.190476  0.471366"
      ]
     },
     "execution_count": 18,
     "metadata": {},
     "output_type": "execute_result"
    }
   ],
   "source": [
    "data_train.head()"
   ]
  },
  {
   "cell_type": "code",
   "execution_count": 19,
   "metadata": {},
   "outputs": [
    {
     "name": "stdout",
     "output_type": "stream",
     "text": [
      "[0.42857143 0.57142857 0.33333333 0.66666667 0.19047619 0.61904762\n",
      " 0.85714286 0.28571429 0.         0.14285714 0.28571429 0.61904762\n",
      " 0.28571429 0.71428571 0.52380952 0.38095238 0.23809524 0.19047619\n",
      " 0.52380952 0.71428571 0.42857143 0.57142857 0.52380952 0.28571429\n",
      " 0.66666667 0.85714286 0.19047619 0.33333333 0.38095238 0.19047619]\n"
     ]
    }
   ],
   "source": [
    "data_x = np.array(data_train['X'])\n",
    "data_y = np.array(data_train['Y'])\n",
    "print(data_x)"
   ]
  },
  {
   "cell_type": "code",
   "execution_count": 20,
   "metadata": {},
   "outputs": [],
   "source": [
    "#initializing the parameters\n",
    "m = 1\n",
    "c = -1\n",
    "iter = 1\n",
    "epochs = 100\n",
    "alpha = 0.1\n",
    "ns = len(data_train['X'])\n",
    "error = []"
   ]
  },
  {
   "cell_type": "code",
   "execution_count": 21,
   "metadata": {},
   "outputs": [
    {
     "name": "stdout",
     "output_type": "stream",
     "text": [
      "-0.42091608585706375 0.678947022291301\n"
     ]
    }
   ],
   "source": [
    "# Calculating Gradient Descent\n",
    "while (iter<=epochs):\n",
    "  err = 0\n",
    "  # running for loop to calculate and update model parameters for each sampleerr = 0\n",
    "  for i in range(0,ns):\n",
    "\n",
    "    # calculating error and storing in an list\n",
    "    err +=  ((data_y[i] - (m * data_x[i]) - c))**2\n",
    "    # calculating derivatives of m and c\n",
    "    der_m = (-1) * ((data_y[i] - (m * data_x[i]) - c ))*(data_x[i])\n",
    "    der_c = (-1) * (data_y[i] - (m * data_x[i]) - c )\n",
    "\n",
    "    # calculating change in m and c\n",
    "    change_m = (-1)*alpha*der_m\n",
    "    change_c = (-1)*alpha*der_c\n",
    "\n",
    "    #updating m and c\n",
    "    m = m + change_m\n",
    "    c = c + change_c\n",
    "\n",
    "  #incrementing no of iterations\n",
    "  iter = iter + 1\n",
    "  err = (1/(2*len(data_train['X'])))*(err)\n",
    "  error.append(err)\n",
    "  \n",
    "print(m,c)"
   ]
  },
  {
   "cell_type": "code",
   "execution_count": 22,
   "metadata": {},
   "outputs": [
    {
     "name": "stdout",
     "output_type": "stream",
     "text": [
      "0.04935812394454529\n"
     ]
    }
   ],
   "source": [
    " #Finding the MSE of training data\n",
    "data_train_pred =  m*data_train['X'] + c\n",
    "\n",
    "from sklearn.metrics import mean_squared_error\n",
    "mse = mean_squared_error(data_train['Y'],data_train_pred)\n",
    "print(mse)"
   ]
  },
  {
   "cell_type": "code",
   "execution_count": 23,
   "metadata": {},
   "outputs": [],
   "source": [
    "data_train_x = np.array(data_train['X'])\n",
    "data_train_y = np.array(data_train['Y'])\n",
    "pred2 = []\n",
    "for i in data_train_x:\n",
    "  pred2.append(m*i + c)"
   ]
  },
  {
   "cell_type": "code",
   "execution_count": 24,
   "metadata": {},
   "outputs": [
    {
     "data": {
      "text/plain": [
       "<matplotlib.collections.PathCollection at 0x202dd8da370>"
      ]
     },
     "execution_count": 24,
     "metadata": {},
     "output_type": "execute_result"
    },
    {
     "data": {
      "image/png": "[encoded data removed]",
      "text/plain": [
       "<Figure size 432x288 with 1 Axes>"
      ]
     },
     "metadata": {
      "needs_background": "light"
     },
     "output_type": "display_data"
    }
   ],
   "source": [
    "plt.plot(data_train_x,pred2)\n",
    "plt.scatter(data_train_x,data_train_y)"
   ]
  },
  {
   "cell_type": "code",
   "execution_count": 25,
   "metadata": {},
   "outputs": [
    {
     "name": "stdout",
     "output_type": "stream",
     "text": [
      "0.07415459516295382\n"
     ]
    }
   ],
   "source": [
    "#Mean square for testing data\n",
    "data_test_pred = m*data_test['X'] + c\n",
    "mse1 = mean_squared_error(data_test['Y'],data_test_pred)\n",
    "print(mse1)"
   ]
  },
  {
   "cell_type": "code",
   "execution_count": 26,
   "metadata": {},
   "outputs": [
    {
     "data": {
      "image/png": "[encoded data removed]",
      "text/plain": [
       "<Figure size 432x288 with 1 Axes>"
      ]
     },
     "metadata": {
      "needs_background": "light"
     },
     "output_type": "display_data"
    }
   ],
   "source": [
    "plt.scatter(data_test['X'],data_test['Y'])\n",
    "plt.plot(data_test['X'],data_test_pred,'yellow')\n",
    "plt.grid()"
   ]
  },
  {
   "cell_type": "code",
   "execution_count": 27,
   "metadata": {},
   "outputs": [],
   "source": [
    "#predicting the bicarbonate in well water by giving ph as input\n",
    "min_x = data['X'].min()\n",
    "max_x = data['X'].max()\n",
    "min_y = data['Y'].min()\n",
    "max_y = data['Y'].max()"
   ]
  },
  {
   "cell_type": "code",
   "execution_count": 28,
   "metadata": {},
   "outputs": [
    {
     "name": "stdout",
     "output_type": "stream",
     "text": [
      "enter the pH of well water:3.5\n",
      "Total number of bicarbonates in well water having pH = 3.5 is 334.71785252039723\n"
     ]
    }
   ],
   "source": [
    "input_x = float(input(\"enter the pH of well water:\"))\n",
    "input_xx = input_x\n",
    "input_x = (input_x - min_x)/(max_x - min_x)\n",
    "output_y = m*input_x + c\n",
    "output_y = output_y*(max_y - min_y) + min_y\n",
    "print(\"Total number of bicarbonates in well water having pH =\",input_xx,\"is\",output_y)"
   ]
  },
  {
   "cell_type": "code",
   "execution_count": null,
   "metadata": {},
   "outputs": [],
   "source": []
  }
 ],
 "metadata": {
  "kernelspec": {
   "display_name": "Python 3",
   "language": "python",
   "name": "python3"
  },
  "language_info": {
   "codemirror_mode": {
    "name": "ipython",
    "version": 3
   },
   "file_extension": ".py",
   "mimetype": "text/x-python",
   "name": "python",
   "nbconvert_exporter": "python",
   "pygments_lexer": "ipython3",
   "version": "3.8.2"
  }
 },
 "nbformat": 4,
 "nbformat_minor": 4
}
